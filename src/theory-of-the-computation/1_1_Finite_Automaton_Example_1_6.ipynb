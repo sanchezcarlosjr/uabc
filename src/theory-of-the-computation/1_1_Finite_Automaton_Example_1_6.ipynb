{
  "nbformat": 4,
  "nbformat_minor": 0,
  "metadata": {
    "colab": {
      "name": "1.1 Finite Automaton Example 1.6.ipynb",
      "provenance": [],
      "collapsed_sections": [],
      "authorship_tag": "ABX9TyMOg1JEWLJI9X/u863DmmTQ",
      "include_colab_link": true
    },
    "kernelspec": {
      "name": "python3",
      "display_name": "Python 3"
    },
    "language_info": {
      "name": "python"
    }
  },
  "cells": [
    {
      "cell_type": "markdown",
      "metadata": {
        "id": "view-in-github",
        "colab_type": "text"
      },
      "source": [
        "<a href=\"https://colab.research.google.com/github/sanchezcarlosjr/uabc/blob/main/src/theory-of-the-computation/1_1_Finite_Automaton_Example_1_6.ipynb\" target=\"_parent\"><img src=\"https://colab.research.google.com/assets/colab-badge.svg\" alt=\"Open In Colab\"/></a>"
      ]
    },
    {
      "cell_type": "markdown",
      "source": [
        "\n",
        "# 1 Regular languages\n",
        "## Example 1.6\n",
        "\n",
        "By [Carlos Eduardo Sanchez Torres](https://twitter.com/CharllierJr)\n",
        "\n",
        "[Introduction to the Theory of Computation](https://sanchezcarlosjr.notion.site/Introduction-to-the-Theory-of-Computation-1c30797e35f64e578e0c1961999ac6fe)\n",
        "\n",
        "![Screenshot from 2022-02-05 12-30-39.png](data:image/png;base64,iVBORw0KGgoAAAANSUhEUgAAATUAAABdCAYAAADEz/GHAAAABHNCSVQICAgIfAhkiAAAABl0RVh0U29mdHdhcmUAZ25vbWUtc2NyZWVuc2hvdO8Dvz4AAB8TSURBVHic7Z15WJTl+se/yhIiiziimIBJCiYarnUCXAsUFzAEPFTiUTFJxDITQsldQU3TMEXS1HO0OEWCluKKKAoqCgIaArJvw77IADPDzPP7g5/vr/mhwMy8s4DP57q8Lt/lue975mK+7/M+y333IoQQUCgUSg+ht6oDoFAoFDahokahUHoUVNQoFCmgozXqDxW1HkxMTAw++ugj7Ny5EwKBQNXhdHtOnjyJTZs2qToMSidQUeuhZGVlYf369QgODkZ9fT3Wr1+v6pC6NatXr8aaNWtgYmKi6lAondCLzn72TFasWIHFixfD1tYWAoEAH3zwAWJiYtC3b19Vh9YtKSgoQFxcHG7fvo3w8HBVh0PpANpT66Hk5OQwAqatrQ0tLS3k5OSoOKruy9ChQ6Gvr6/qMChdgIoahULpUWiqOgCKYpg8eTKysrJgY2MDLpeL0tJSDB8+XNVhqZy6ujoUFxczxxoaGnjrrbdUGBGFbaioqTl1dXWIiYnB77//DnNzc3A4HDx9+hRaWlpYsWIFJkyY8MJ2ixYtwvz582FgYIDQ0FD4+PhAV1dXydGrF1FRUThy5AhmzpzJnCsuLkZeXh48PT3h7u7+0rbBwcGIiopCS0sLdu/eDX9/f2WETJEBOlGgxiQmJmLz5s1Yu3YtpkyZAh0dHeZaeXk5goODYWRkhG+++Qa9e7cfSXjw4AEiIiIwa9YsTJ06FZqar+Yz7NmzZ9i8eTP09PSwYcMGaGtrS1zn8/nYv38/MjIy8NNPP73wu2xsbMSDBw/Qq1cvjB8/Hnp6esoKnyIlVNTUlISEBHz//fc4fvw4+vTp89L7bty4gdDQUERGRioxuu6DWCyGh4cHpk+fDl9f3w7vvXLlCk6fPo3w8PB2wkfpPlBRU0MSExNx4MABHDt2rEtLMDZt2oSBAwd2+qN9FdmyZQs4HA5WrVrVpftjYmJw/vx5HDx4UMGRURQFnf1UM2pra+Hj44Pjx493eU3Z5s2b8eTJE9y4cUPB0XUv/vrrL1RUVHRZ0ADAyckJxsbGOHfunAIjoygS2lNTM/bu3QsHBwe8/fbbUrWrr6+Hh4cHoqKiXvkJAaBtj6arqysiIiLw2muvSdW2oaEBq1evxuHDhzt89aeoJ7SnpkZUV1ejvLxcakEDAENDQ3h6etKxtf/l119/hZ2dndSCBgAGBgZwd3fHyZMnFRAZRdFQUVMjjhw5gn/+858yt/fw8EBERARaW1tZjKp7kpCQAB8fH5nbz5kzB0lJSSxGRFEWVNTUBIFAgNzcXJl6ac/R1dWFi4sLUlJSWIys+1FYWAgOhyP3sovRo0fj2rVrLEVFURZU1NSEyspKTJgwQe61ZC4uLjh79ixLUXVPoqKi8OGHH8ptx93dHb/99hsLEVGUCRU1NSEmJga2trZy2zExMUFZWRkLEXVf0tLSMGbMGLntmJqa0lf5bggVNTUhIyMDNjY2rNh65513cO/ePVZsdTd4PB6r6ZUsLCzA4/FYs0dRPFTU1ABCCCwsLFizZ2tri9zcXNbsdSfKysowbtw41uxZW1sjLS2NNXsUxUNFTQ0QiUT466+/WLM3bNgwJCYmsmavO5GYmIhhw4axZu+9995DSUkJa/YoioeKmhqQm5uLOXPmsGZPU1MTAwYMYM2erNy5cwdXrlxRqs/evXuz9hr/nAcPHrBqTxrKy8vh6+uLr776Co2NjSqLoztBRU0NyMjIgL29PWv2CCHg8/ms2ZMWoVCI/fv3w9PTU+mTFrGxsTAyMmLNXt++fWFqasqaPWng8/mYN28exo0bBxMTE7i6uqokju7Gq5mLRs2orKyEgYEBa/b69OmDd955hzV70qKhoQE3NzdWX6m7iqOjI6v2WlpaUFFRwarNrnL//n2MGzcO3t7eAICbN28iMTER7733nkri6S7QnpoaoIjxrz///JN1m12ld+/eMDU1VUnOMbb3aopEIpWVF8zPz8fkyZOZYzs7O5X2wLsLVNR6GIWFhWhoaIBIJFJ1KN2eU6dOobm5WaUxtLS0vPD/lJdDRU0NmDZtGmu2MjMz4eTkhCdPnuDq1auvXDm3uro61myVlZXBzc0NKSkp8Pf3x82bN1mz3RX69esnkaAgMTGRVrTqAnRMTQ3Q19dHZWUljI2N5bbF4XBw584diMViLFiwQCXjWkBbFtnY2FikpqaipqYGX3zxhVL83rhxA15eXqzYsrS0xP379wG0pQTftm0bK3a7iqOjI7799lts374dtbW10NPTe2lNCsr/QUVNDRCJREhKSsLs2bNfeF0oFLZ7DerVq9cLn9rjx4+HtrY2Wlpa4O/vjyFDhigk5s7Q0NBAUFAQAEjUVlAlzc3NuH37tsSMrLm5ObNYV19fH7169WKuzZ07F0DbGGFISIhMaYzkQUtLC+Hh4Thw4AB0dHQQERGhVP/S0NDQwPxfU1MT2traKquJQZNEqgEPHz5EaWkpI2o8Hg8FBQW4fPkyUlJSUFtbCy0tLRgaGsLQ0BBisRiVlZXo06cPmpubsWXLFpiamjKD5KNHj4ahoSEuXbr0yhUICQsLw9y5c5llGOXl5bh8+TKuXbuGxsZG2NraYvDgwcw1Pp8PLpeLmpoaEELw+uuvw83NDTY2NtDS0oKtrS04HA7++OMPVX4staOiogJXr15FfHw8mpqakJeXB3NzcxgbG6O1tRVFRUUwNDSErq4u7O3t4eDggIEDByolNtpTUwNGjx6NU6dOYdq0aQgKCkJ+fj7Mzc3h5uaGRYsWgcPhvLRtVlYWQkNDUVRUhFGjRmH16tUYP3481q1b98oJGtC2Cf3p06cghGDXrl1oamrCzJkzsWfPni693icnJyMyMhI7duzAxx9/DBMTE3z11VdKiLx7kJiYiJCQEPTr1w82Njbw9fWFlZUVtLS02t0rFAqRmZmJK1euwN/fHzU1Nfj6669ZSdzQIYSicsRiMZkyZQqZNWsW+fe//03EYrHUNlpbW0lcXBwJDAwkHA6HVFVVKSBS9ScrK4uMGjWKfPTRRyQxMVFmOw0NDWTnzp3ExsaG1NTUsBhh9yQ5OZnMnDmTODs7k5ycHKn/RsViMcnJySEuLi7E0dGRFBcXKyhSQujrp4ppbW1FVFQUsrOz8fXXX7+w5qS03Lp1C5s2bcKGDRswY8YMFqJsD5/PR0lJCW7dutXpvVpaWhAKhQDaxqeej1UBgLa2Nms1FfLz87F06VIsXboUH3/8scT42HPS09PbJdG0t7fHwIED8dprr7XrceTk5CAoKAjz58+Hh4fHC23KQkNDA8RiMYC2yY36+noAbVuy/v92KC6XCxMTkxfa0dTUhJ2dHQDAzMwM48aNg76+PjQ0NFiJUyQSYfv27bhz5w62b9+O8ePHy/UdEEKQkpKCb775BvPmzcPy5ctZi/U5VNRUSG1tLQICAuDi4sLq3k8AKCkpwYYNG2BnZwdvb2+Z/xB5PB7Kyspw69YtVFdXo6GhAcXFxdDR0cGECRMwfPjwDtv36tULRkZGqKmpAdBWh/PvC4MFAgF4PB4EAgGsrKygp6eHiRMnwsTEBMbGxjA0NGTu3bp1Kz7//HOJc89JS0tDUFAQdu3ahbfeeqvdd3H+/HncvHkTWlpamDx5MmpqamBiYoKHDx8CaFu9r6WlBRcXF3h6ekq88jc1NSEgIABDhgzB119/LfV3WFRUhPv37yMnJwcZGRkwNDREnz59wOfz0adPHzg4ODD3DhkyBG+++WaXbRcXFzMZWYqKipCSkoKGhgY0NDRg0qRJGD58OKytrTFw4MAX7lrpKFWTSCTCmjVr0NDQgGPHjrEqPiKRCFu2bAGPx8OuXbtYnVSgoqYiGhsbMWXKFGzevBnOzs4K8dHS0oIjR46gpqYGW7Zs6VKb3NxcnD9/HmVlZUyPYfDgwbC3tweHw4GVlRXrT9bnsebm5kIkEjGi9+jRI5ibm8PCwgJOTk5wdXWFhoYGQkNDMXHiRKbtr7/+ivPnzyMkJISZBACAvLw8bNq0CQKBAGvWrIGlpWWH+0KfPXuGn3/+Gb/99hvs7e0RFBQk8WPbt28f+Hw+AgMDO/wsJSUlSElJwe3bt9HQ0IARI0Zg+PDhePPNN9sJrqJ49uwZioqK0NjYiGvXriEtLQ29e/eGtbU1ZsyYgYkTJ0JTUxOpqamIjo7GypUrJcYcCSFYu3Yt+vfvD39/f4UVdz59+jTu37+Pffv2sdYLpmNqKkAsFpOlS5eSc+fOKcXfpk2byMGDB196vaioiAQGBpK5c+eS7du3k5iYGMLlckljY6NS4uuI8vJyEhUVRTZu3Ej69u1LABAOh0OOHj1KCCHk6dOnxM7OjgiFQol2YWFhZMqUKeTBgweEz+dL5VMoFJLQ0FAyZ84cwuVyJa55eXmR8+fPt2vz+PFjsnLlSuLt7U2WL19Ozpw5Q8rLy6X8tIqltraW3Lp1i4SEhBAnJyeyatUqcvjwYQKAjBw5UiLe1atXk9OnTyslrsDAQLJt2zbW7FFRUwF79uwhwcHBSvMnEAiIu7s7ycrKYs41NzeTH3/8kSxZsoRs3LiRpKamyjRBoQxEIhEJCAggWlpapH///qR///7E1dWV7Nmzh4wePZpUVFQw94rFYhISEkK8vb1Jc3OzXH7v379PnJycJAa1m5ubiaurKykoKCCEtA2gr1y5kqxbt44UFBSo7Xf4/xGLxSQ3N5csXLiQACAAiI6ODvnxxx/J0aNHybp165Qay8seFrJARU3JFBUVETc3N6X7zc7OJm5ubqSkpISsXbuWrFy5kpw/f17qXowqaGlpITdv3iTp6ekS50NCQsh//vOfduf27NnDmu+CggLy/vvvk8LCQubc48ePiYODA/niiy+It7c3ycvLY82fMklKSiIDBgwglpaWxNLSkixatIg4OTm9sOeraEpKSoizszOprKyU2xYVNSXj7e1NSkpKVOL7yJEjxMHBgcTGxqrEP5sUFxeTjz76SKJnFB0dTdavX8+6rzNnzpBPPvlE4oe+f/9+cvLkSdZ9KZPa2lry9OlTiXNbtmwhFy5cUEk8J06cIJs2bZLbDhU1JVJaWkqCgoJU5l8oFJL58+cTkUikshjYYtWqVSQhIYE5zsvLI5MnT5b7lfNl7Ny5k/j7+zPHZWVlZM6cOQrxpSrq6+uJu7s7aW1tVYn/1tZW4uHhQerq6uSyQ7N0KJHg4GAsWbJEZf41NTUxadKkbl+UpbGxERUVFRLJErdv347vv/9eYftMAwMDkZmZiaKiIgBtpQjHjx+v0lTfbLNnzx58+eWXCpnd7goaGhpYvHgx9u7dK5cdKmpKoqmpCWVlZaxWjZKFzz77DGFhYSqNQV7u3r2Ld999lzl+vkF97NixnbZtaGhAXl6eTH5XrlyJ3bt3M8cLFizA77//LpMtdYMQgnv37sHa2lqlccyePRtlZWXMwmRZoHs/lURhYaFMKbZzc3MRHR0NMzMzmJqaIicnB5988onMcRgZGaG2tlbm9upAfHy8RAX2U6dOYenSpZ22u337Nn788Uc4OTkhPDwcVVVVOHLkSJd3cTg6OiIsLAzPnj2Dvr4+xowZw2Qi6e5UV1czuxGkgcfjITw8HH379kVtbS20tbWxcOFCvP766zLHYmxsjPT0dJkL6NCempKIjIyUurhKUlISvLy8sGTJEixYsACff/45ysvL5Y5lwIABqKqqktuOqigoKJDoUfz1118SPbcXkZOTg6VLlyIsLAwLFy7EqFGjUFRUJPW2NGtrazx+/BhA25YvKyurbv+QANq21v09dXhXaGlpwYIFCzBw4EB8+umn0NfXx/79++Wut2Fvb4+nT5/K3J6KGsvweLwXdp3z8vKkKpjB5XIxe/Zs7Nu3D0ZGRmhuboZIJMK//vUvAG3bjWT9MQ0ePFjpVZ7YQigUYujQocxK/2fPnsHY2LjTcaCNGzfigw8+YMbcUlJSmC1eDx8+xLlz5xATE9NpPQJ7e3ucO3eOOba0tERWVpY8H0ktSEpKktil0RmEEGzYsAFDhw7Fxx9/zJx3cnKCnp4e6urq8Ouvv+L333+XOiX67NmzceHCBana/B0qaiwTHR0NOzs7fPfdd0wVIrFYLHWPIDo6GlZWVswra1FREUQiETgcDkpKShASEoL3339fphg5HA6qq6tlaqtq+Hw+szkeaHsVnTVrVodtSkpKEB0dDT8/P+bcxYsX4efnhzNnzqC+vh7Ozs7Yv38/QkNDO7T1so3l3R0ul4tBgwZ1+X6BQIB9+/bBzc0NQJvIXbx4EZMnTwaPx8OyZcswbdo0xMfHd7qtjG16/JhaaWkpvvvuO8yZM0euWR2hUIiYmBiJc3379m0nLHp6ekhNTcWdO3ewbds2TJ06FQsWLJDaX2xsLKZPny5x/NzXkCFDsGjRIon89a8KNTU16N+/P3NcW1srsd/zReTn58PS0hIjRoxgjltbW2FmZoY9e/Zg7NixmDp1Knx9fSV6YS+ip4ra84QD0mBgYIC3334bQNvD5vLly/j2229RVVUFfX19DBw4EBMmTEBycjLb4XZIjxe1QYMGwdvbW+4ydJqamu2eODweD9euXZM4RwhhXo2e96xkKbH29wFbkUiES5cuddojeRXQ19cHkTIHg4mJCXR0dKChoQGBQIDVq1djzJgx0NXVxQ8//MA87GJiYjoVyJ6KLNXf9fX1md7dhQsXYGxsDEtLSwDAsWPHEBERgYMHD+LixYusxtoZPV7UNDQ0YGVlBSsrK9Zt9+/fnxnjes4ff/wBW1tbuLu7w9XVFUZGRhCLxVKL6ueff47Vq1cjLy8PW7duxZ9//qn0wh/qiJaWFrNWrKu8+eabcHZ2xrfffovm5mbk5uZi2bJlAMDUHTh79iyEQuEr+x1LW3/htddeg5+fHzZu3IihQ4ciJCSk3WSNnZ0dTp48iZ9++glr165lM9wO6fGipmzmzZuHefPmSZzr3bu3VOMVAPD222/j9OnTKCoqQkBAAK5evcp09eWFy+XCzMyMFVuqRl9fH/Hx8Z0mw3zeyxaJRDh79qxErzc6OhqXLl1CWFgYsrOzmdfUF5GdnS3Riy4tLYWTk5Ocn0L1SPv3CQABAQEoLi6GpqYmYmNjMWnSJABtlcQMDAzw7rvvYseOHZgxYwZWrVrVZeFsbGyUqxQgnShQErLMNg4ZMgT/+Mc/kJ6eLvOkwIsoKCjodAmEuqKrqyuxZGD69OlSTf/n5eWhsLCQ+RE/f2hoamrC398fv/zyS4ftMzIymLFOQghSU1N7zANCFkxNTWFiYoLr168zGXgTEhJw5coVAMDjx48xZswYqfKx3bx5U+rlJX+HipqSeOedd3Dv3j2p212+fBnbt2/H48eP8eTJEwBts3mRkZEYMWIEIiIipK7G3tzczFSe6m707t0bTU1NTPprPT098Pl85rgjLl++jK1bt2LSpEk4deoUgLZZvA0bNmDSpEkYO3Zsp9vY4uPjmcy0IpFIpvFSdWTWrFkyjX0lJSXBxcUF1dXVOHjwIADg008/RUtLCyIiInDnzh1ERUVJlQAyOTlZrsW7dEO7kkhPTyf79u2Tuh2Xy22XqFAeCgsLWcmEoEqOHDlCoqOjmePDhw+Ts2fPKtxvY2MjcXZ2Zo7j4+PJzp07Fe5XGZSWlhIvLy9Vh0EIIcTZ2Vmu1Ee0p6Ykhg0bhri4OKmf7IMGDZJpvONlHDp0CK6urqzZUwUeHh64dOkSs15t4cKFuHTpElpbWxXqd+fOnRLbsU6cOCHTch11ZPDgwRCLxWhqalJpHKWlpbCxsZGrZgEVNSXRt29f2NjYyLVSmg1iY2MxatQolcYgL/369UNDQwMyMjIAtO1nNTU1xW+//aYwn7m5uXj48CFcXFwAAHV1daivr2eWMPQEXF1d8fPPP6s0hr1792LmzJnyGWGx10jphLy8POLq6koEAoFK/IeHh5NDhw6pxDfbcLlcMnPmTCY3XFVVFfHy8pLIUMsWYrGYzJw5k6SlpTHn9u7dS44fP866L1XS3NxMHB0dybNnz1Tin8vlkkWLFsmdEp321JTIG2+8AWtra9y/f1/pvvPz83Hp0qUuZbPoDgwaNAgzZsxgZtk4HA78/f0RGBgIPp/Pmh+xWIzAwEA4OztjzJgxAIDMzEzcu3dPrmwp6oiOjg6++eYb7N27V67UP7ISHByMxYsXy19ViiWRpXSRhoYG4ujoSOrr65Xmk8/nkxkzZpCMjAyl+VQGdXV1xN3dXaJnceXKFeLu7t4uTbUs1NfXk4CAAOLn58dk1BUKhcTBwYGkpqbKbV9d8fT0JHfv3lWqz+vXr5NFixaRpqYmuW1RUVMBDx8+JO7u7koTNj8/P3LgwAGl+FI26enp7YTt8uXLZPr06XL9MLOzs4mLiws5fPgwaWlpIYS0vYZ6e3sTa2trsnXrVnLt2jXm3+nTp5VerEQRNDY2koCAAPLBBx+Qqqoqpfh88uQJGTVqFCkqKmLFHhU1FXHo0CGyfv16hZdU+/PPP8nixYtVlndeGcTFxRFfX1+J75LL5ZI5c+YQLy8vqQrdZGZmksDAQDJ79mySmZnJnBeJRGTZsmVk+fLl5MaNG8TQ0JApLWdoaEjOnDnTbcrjvYi8vDyye/du4u7uTi5evEiePn1KZs2aJVF+UBGkp6eTsWPHSpRvlBcqairk0KFDxMfHh/B4PNZtt7a2ksjISOLt7d0jCq10xunTp4mnp2e7AszHjh0jH374Ifnkk0/IDz/8QMLDw0lZWRlzncfjkaKiInLy5Eni7u5OXF1d2xWZFgqFxNfXl6xYsYI5d/v2bTJ27FgCgFhYWJAVK1aQqKgohRV+UQSNjY3k+vXrZMmSJcTV1ZVcv35d4npCQgJxdnYm+fn5CvEfGxtLpk+fTiIjI1m124sQKVMeUFjlv//9L/bv38/skWMDsViMNWvWoK6uDkePHoWWlhYrdtWdq1ev4ocffsCXX37ZbpvN48ePcffuXfD5fImJmurqapiammLEiBGYO3cus1vgOXFxcdixYweWL18ODw8PiWs1NTVwdHREcHAwRo4cieTkZBw/fhwWFhZwd3fHyJEjYWRkpLgPLAMVFRV49OgRIiMjoampCTMzM3h5eb10LWRWVhaWLl0KX19feHp6shbH1q1bkZqaip07d7KebIKKmhpQVVWFVatWgcPhICAgAObm5jLbio+Px969e/Hhhx/C09NTqj13PYGysjL4+fnBzMwMX331FYYMGSKTnezsbISFhUEgEMDHx+elBUmqqqokaiaIRCJkZGTg+vXruHfvHgwMDGBkZIRp06Zh9OjRSs/H1tTUhISEBDx8+BBnz57FiBEjMG7cODg5OTGZfzujpaUF+/btQ319PTZs2CBXuu6cnBz4+vpi4sSJCAoKUkj1LypqagL5383RO3bsgLm5Ofz8/GBubt6ljLkikQhxcXE4efIk9PT0sG7dOgwbNkwJUasnhBAkJydj27Zt4HA4mD9/PhwdHTvMEiEWi8Hn83H37l388ssvqKyshI+PDxwdHeWKpaWlBbW1tYiLi8OjR4+Ql5cHgUAACwsLjB8/HhYWFsxSEW1tbakSmf49TfbFixeZpSyZmZkoLCwE0PZdvPfeexg+fDjeffdd6OrqyvxZLly4gNDQUEyZMgV2dnaws7PrUrwikQgJCQn4+eef0dTUBH9/f4VWraKipoakpaVh/fr10NTUhJ2dHfT09DB37lyJexITE1FZWYmkpCTU1NRg2rRpcHFxaff69KpTWlqK8PBwpKWlMa+ClpaW0NPTY+5paWlBQkIChEIhJk+ejOXLl6Nfv34Kjau6uhrJycnIzc1Feno6gLb8fCUlJV22UV9fz/T8xo4di6FDhwIADA0NZapc1lVu3bqF77//Hs3NzXjjjTdgb28PW1tb5jqXy4VIJMKDBw+Qm5uLnJwcmJmZwdfXFyNHjlRYXM+hoqbGNDc348mTJygtLW23YHfYsGEYM2YMTE1NYWxsrKIIuyfZ2dkSmV51dHTw1ltvqTCi7olQKMSjR4/w6NEjiQLZlZWVMDY2hrOzM3R1dRWSoLUjqKhRKJQeBd0mRaFQehRU1CgUNUMgEOCPP/7AnTt3utwmPz+f2Qf7qkNrFFAoaoRAIGCSDhQWFsLd3V2iXumLKCkpgY+PD0xMTODg4KCMMNUaKmoUihqRmpqKXr164cSJE+DxeHj//ffh6ura4Xq73bt3y5VUsadBXz8pFDUiMTER06dPh4aGBgwMDDBq1ChUV1d32ObAgQP47LPPlBSh+kNFjUJRM/6+vEQZ67p6GlTUKBQ14+9pya9evarCSLonVNQoFDVi/vz5OHv2LDIzMxEVFYWWlhaJntt3332HEydOtGtXXl6OiooKJUaqvlBRo1DUCHNzc+zatQszZszA1q1bcebMGYksK5WVlTh06JBEmzNnzuDmzZsYMGAAli1bJlPh7J4E3VFAoXQTBAIBVq5cCQA4evSoiqNRX6ioUSjdBLFYjNjYWNjb2yskZU9PgYoahULpUdAxNQqF0qOgokahUHoUVNQoFEqPgooahULpUVBRo1AoPQoqahQKpUdBRY1CofQoqKhRKJQeBRU1CoXSo6CiRqFQehRU1CgUSo/ifwByWF3YMPRFXQAAAABJRU5ErkJggg==)\n",
        "\n",
        "\n",
        "The finite automaton $M1$\n",
        "\n",
        "Sipser, Michael. Introduction to the Theory of Computation. 3rd ed. Cengage Learning, 2012. ISBN: 9781133187790. Page 36."
      ],
      "metadata": {
        "id": "NSWJ0niYkyEV"
      }
    },
    {
      "cell_type": "code",
      "execution_count": 35,
      "metadata": {
        "id": "W2_j0HD4cEgi"
      },
      "outputs": [],
      "source": [
        "class q3:\n",
        "   def inputZero(self,finite_automaton):\n",
        "     finite_automaton.state = q2()\n",
        "\n",
        "   def inputOne(self,finite_automaton):\n",
        "     finite_automaton.state = q2()\n",
        "\n",
        "class q2:\n",
        "   def inputZero(self,finite_automaton):\n",
        "     finite_automaton.state = q3()\n",
        "\n",
        "   def inputOne(self,finite_automaton):\n",
        "     finite_automaton.state = q2()\n",
        "\n",
        "\n",
        "class q1:\n",
        "   def inputZero(self,finite_automaton):\n",
        "     finite_automaton.state = q1()\n",
        "\n",
        "   def inputOne(self,finite_automaton):\n",
        "     finite_automaton.state = q2()\n",
        "\n",
        "\n",
        "# Accepter finite automaton\n",
        "class M1:\n",
        "   state = q1()\n",
        "   alphabet = {0,1}\n",
        "   final_states = {\"q2\"}\n",
        "\n",
        "   def recognizes(string):\n",
        "    m1 = M1()\n",
        "    for symbol in str(string):\n",
        "      m1.transite(int(symbol))\n",
        "    return m1.accepts() \n",
        "\n",
        "   def accepts(self):\n",
        "    return type(self.state).__name__ in self.final_states\n",
        "\n",
        "   # We use something called a transition function,\n",
        "   # frequently denoted delta, to define the rules\n",
        "   # for moving.\n",
        "   def transite(self,symbol):\n",
        "     if symbol not in self.alphabet:\n",
        "        raise Exception('Symbol is not in alphabet')\n",
        "     print(symbol, end=\"\")\n",
        "     if symbol == 0:\n",
        "        self.state.inputZero(self)\n",
        "     if symbol == 1:\n",
        "        self.state.inputOne(self)"
      ]
    },
    {
      "cell_type": "code",
      "source": [
        "m1 = M1()\n",
        "m1.transite(symbol=0)\n",
        "m1.transite(symbol=1)\n",
        "m1.transite(symbol=1)\n",
        "print()\n",
        "print(f\"Is a valid string? {m1.accepts()}\") "
      ],
      "metadata": {
        "colab": {
          "base_uri": "https://localhost:8080/"
        },
        "id": "JH0KZoBQeTsw",
        "outputId": "c5f69345-2c6c-4180-874d-ff6b8a85da2f"
      },
      "execution_count": 36,
      "outputs": [
        {
          "output_type": "stream",
          "name": "stdout",
          "text": [
            "011\n",
            "Is a valid string? True\n"
          ]
        }
      ]
    },
    {
      "cell_type": "code",
      "source": [
        "assert M1.recognizes(\"0101\") == True\n",
        "print()\n",
        "assert M1.recognizes(\"0\") == False\n",
        "print()\n",
        "assert M1.recognizes(\"01\") == True\n",
        "print()\n",
        "assert M1.recognizes(\"010\") == False\n",
        "print()\n",
        "assert M1.recognizes(\"10\") == False\n",
        "print()\n",
        "assert M1.recognizes(\"11\") == True\n",
        "print()\n",
        "assert M1.recognizes(\"100\") == True\n",
        "print()\n",
        "assert M1.recognizes(\"0100\") == True"
      ],
      "metadata": {
        "id": "zWvzkT4RkBHe",
        "colab": {
          "base_uri": "https://localhost:8080/"
        },
        "outputId": "7496a2a7-a4df-41c1-9d2e-6183559482fd"
      },
      "execution_count": 37,
      "outputs": [
        {
          "output_type": "stream",
          "name": "stdout",
          "text": [
            "0101\n",
            "0\n",
            "01\n",
            "010\n",
            "10\n",
            "11\n",
            "100\n",
            "0100"
          ]
        }
      ]
    }
  ]
}