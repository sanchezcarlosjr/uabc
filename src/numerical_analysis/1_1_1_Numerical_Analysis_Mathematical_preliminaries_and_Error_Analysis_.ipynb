{
  "nbformat": 4,
  "nbformat_minor": 0,
  "metadata": {
    "colab": {
      "name": "1.1.1 Numerical Analysis Mathematical preliminaries and Error Analysis .ipynb",
      "provenance": [],
      "collapsed_sections": [],
      "authorship_tag": "ABX9TyO2oI3hfVJWhr7FxZuh0uyW",
      "include_colab_link": true
    },
    "kernelspec": {
      "name": "python3",
      "display_name": "Python 3"
    },
    "language_info": {
      "name": "python"
    }
  },
  "cells": [
    {
      "cell_type": "markdown",
      "metadata": {
        "id": "view-in-github",
        "colab_type": "text"
      },
      "source": [
        "<a href=\"https://colab.research.google.com/github/sanchezcarlosjr/uabc/blob/main/src/numerical_analysis/1_1_1_Numerical_Analysis_Mathematical_preliminaries_and_Error_Analysis_.ipynb\" target=\"_parent\"><img src=\"https://colab.research.google.com/assets/colab-badge.svg\" alt=\"Open In Colab\"/></a>"
      ]
    },
    {
      "cell_type": "markdown",
      "source": [
        "Show that the following equations have at least one solution in the given intervals."
      ],
      "metadata": {
        "id": "sKwVJhjxQdC_"
      }
    },
    {
      "cell_type": "code",
      "execution_count": null,
      "metadata": {
        "id": "kFQHqdA5O8di"
      },
      "outputs": [],
      "source": [
        "def equationHasAtLeastOneSolutionInTheGivenInterval(f, a, b, K):\n",
        "    return min(f(a),f(b)) <= K <= max(f(a),f(b))"
      ]
    },
    {
      "cell_type": "markdown",
      "source": [
        "# $(x-2)^2-ln(x)=0,[1,2]\\text{ and } [e,4]$"
      ],
      "metadata": {
        "id": "e1TqwzLXQjqp"
      }
    },
    {
      "cell_type": "code",
      "source": [
        "from math import log,e\n",
        "equationHasAtLeastOneSolutionInTheGivenInterval(f=lambda x:(x-2)**2-log(x),a=1,b=2,K=0)"
      ],
      "metadata": {
        "colab": {
          "base_uri": "https://localhost:8080/"
        },
        "id": "IcqcTHw9Qwzx",
        "outputId": "12002f17-0705-46f9-dc45-b5bbbcfedde7"
      },
      "execution_count": null,
      "outputs": [
        {
          "output_type": "execute_result",
          "data": {
            "text/plain": [
              "True"
            ]
          },
          "metadata": {},
          "execution_count": 2
        }
      ]
    },
    {
      "cell_type": "code",
      "source": [
        "from math import log,e\n",
        "equationHasAtLeastOneSolutionInTheGivenInterval(f=lambda x:(x-2)**2-log(x),a=e,b=4,K=0)"
      ],
      "metadata": {
        "colab": {
          "base_uri": "https://localhost:8080/"
        },
        "id": "OGcZMC9YQjSj",
        "outputId": "82d43f68-7520-4aee-ae11-ebeae9fe810c"
      },
      "execution_count": null,
      "outputs": [
        {
          "output_type": "execute_result",
          "data": {
            "text/plain": [
              "True"
            ]
          },
          "metadata": {},
          "execution_count": 4
        }
      ]
    },
    {
      "cell_type": "markdown",
      "source": [
        "# $2xcos(2x)-(x-2)^2=0$, $[2,3]$ and $[3,4]$"
      ],
      "metadata": {
        "id": "iWk1KQ7SQ6Wi"
      }
    },
    {
      "cell_type": "code",
      "source": [
        "from math import cos\n",
        "equationHasAtLeastOneSolutionInTheGivenInterval(f=lambda x:2*x*cos(2*x)-(2*x)**2,a=2,b=3,K=0)"
      ],
      "metadata": {
        "colab": {
          "base_uri": "https://localhost:8080/"
        },
        "id": "BeUVT657RboB",
        "outputId": "67defcbb-88af-4f7f-b87a-12952ed9e6c8"
      },
      "execution_count": null,
      "outputs": [
        {
          "output_type": "execute_result",
          "data": {
            "text/plain": [
              "False"
            ]
          },
          "metadata": {},
          "execution_count": 7
        }
      ]
    },
    {
      "cell_type": "code",
      "source": [
        "from math import cos\n",
        "equationHasAtLeastOneSolutionInTheGivenInterval(f=lambda x:2*x*cos(2*x)-(2*x)**2,a=3,b=4,K=0)"
      ],
      "metadata": {
        "colab": {
          "base_uri": "https://localhost:8080/"
        },
        "id": "NA39VrilRdpt",
        "outputId": "323fc77a-fb45-415e-b996-dfc1d9a636d7"
      },
      "execution_count": null,
      "outputs": [
        {
          "output_type": "execute_result",
          "data": {
            "text/plain": [
              "False"
            ]
          },
          "metadata": {},
          "execution_count": 6
        }
      ]
    },
    {
      "cell_type": "markdown",
      "source": [
        "# $x-(ln(x))^x=0,[4,5]$"
      ],
      "metadata": {
        "id": "_3kk9Of4RuaM"
      }
    },
    {
      "cell_type": "code",
      "source": [
        "from math import log\n",
        "# True\n",
        "equationHasAtLeastOneSolutionInTheGivenInterval(f=lambda x:x-(log(x))**x,a=4,b=5,K=0)"
      ],
      "metadata": {
        "id": "7HXHby3MRyQm"
      },
      "execution_count": null,
      "outputs": []
    }
  ]
}