{
  "nbformat": 4,
  "nbformat_minor": 0,
  "metadata": {
    "colab": {
      "name": "1.2.1 Round_off_Errors_and_Computer_arithmetic Decimal Machine numbers.ipynb",
      "provenance": [],
      "collapsed_sections": [],
      "include_colab_link": true
    },
    "kernelspec": {
      "name": "python3",
      "display_name": "Python 3"
    },
    "language_info": {
      "name": "python"
    }
  },
  "cells": [
    {
      "cell_type": "markdown",
      "metadata": {
        "id": "view-in-github",
        "colab_type": "text"
      },
      "source": [
        "<a href=\"https://colab.research.google.com/github/sanchezcarlosjr/uabc/blob/main/src/numerical_analysis/1_2_1_Round_off_Errors_and_Computer_arithmetic_Decimal_Machine_numbers.ipynb\" target=\"_parent\"><img src=\"https://colab.research.google.com/assets/colab-badge.svg\" alt=\"Open In Colab\"/></a>"
      ]
    },
    {
      "cell_type": "markdown",
      "source": [
        "##  1.2 Round off Errors and computer arithmetic\n",
        "### Decimal machine numbers\n",
        "By [Carlos Eduardo Sanchez Torres](https://twitter.com/CharllierJr)\n",
        "\n",
        "[Numerical analysis](https://www.notion.so/sanchezcarlosjr/Numerical-analysis-f774bbfddd834cf1beffda5e9e935ff8)"
      ],
      "metadata": {
        "id": "ZAeQx02e01UW"
      }
    },
    {
      "cell_type": "code",
      "execution_count": 345,
      "metadata": {
        "id": "fK2Jt8gr0kwg"
      },
      "outputs": [],
      "source": [
        "import math\n",
        "def floor(x):\n",
        "  t = int(x)\n",
        "  return t if x>=0 or x==t else t-1\n",
        "\n",
        "def abs(x):\n",
        "   if x >= 0:\n",
        "      return x\n",
        "   return -x \n",
        "\n",
        "def length(x):\n",
        "    if x == 0:\n",
        "      return 1\n",
        "    return floor(math.log10(abs(x))) + 1\n",
        "\n",
        "# Chopping or truncate\n",
        "def truncate(x,n):\n",
        "  sign = 1 if x >= 0 else -1\n",
        "  return sign*floor(abs(x)*10**n)/(10**n)\n",
        "\n",
        "def z(x,n):\n",
        "   return floor(abs(x)/10**n) % 10\n",
        "\n",
        "def roundingA(x,k):\n",
        "  sign = 1 if x >= 0 else -1\n",
        "  return sign*truncate(abs(x)+5*10**(x.n-(k+2)),k)\n",
        "\n",
        "class fl(float):\n",
        "  def __new__(cls, x=0, root=-1):\n",
        "      cls.n  = length(x)\n",
        "      cls.root = cls.n if root<=-1 else root\n",
        "      return super().__new__(cls,x*10**-cls.n)\n",
        "  def display(cls):\n",
        "    return f\"{cls}x10^{cls.root}\"\n",
        "  def truncate(cls,n):\n",
        "    return fl(truncate(cls, n),cls.n)\n",
        "  def roundingA(cls,n):\n",
        "    return fl(roundingA(cls, n),cls.n)\n"
      ]
    },
    {
      "cell_type": "code",
      "source": [
        "assert z(24.19,0) == 4\n",
        "assert z(24.19,1) == 2\n",
        "assert z(24.19,-1) == 1\n",
        "assert z(24.19,-2) == 9\n",
        "assert z(-24.19,0) == 4\n",
        "assert z(-24.19,1) == 2\n",
        "assert z(-24.19,-1) == 1\n",
        "assert z(-24.19,-2) == 9"
      ],
      "metadata": {
        "id": "4A1PWpye7NQY"
      },
      "execution_count": 292,
      "outputs": []
    },
    {
      "cell_type": "code",
      "source": [
        "e=math.e\n",
        "assert truncate(fl(e),6) == 0.271828\n",
        "assert roundingA(fl(e),6) == 0.271828\n",
        "assert fl(e).truncate(6) == 0.271828\n",
        "assert fl(e).truncate(6).display() == \"0.271828x10^1\"\n",
        "assert fl(e).roundingA(6).display() == \"0.271828x10^1\""
      ],
      "metadata": {
        "id": "krhVhGVK0-YT"
      },
      "execution_count": 293,
      "outputs": []
    },
    {
      "cell_type": "code",
      "source": [
        "phi=(1+math.sqrt(5))/2 # Golden Ratio\n",
        "assert truncate(fl(phi),6) == 0.161803\n",
        "assert fl(phi).truncate(6) == 0.161803\n",
        "assert roundingA(fl(phi),6) == 0.161803\n",
        "assert fl(phi).roundingA(6) == 0.161803\n",
        "assert fl(-phi).truncate(6) == -0.161803\n",
        "assert fl(-phi).roundingA(6) == -0.161803"
      ],
      "metadata": {
        "id": "Nyk8Kzey2KMc"
      },
      "execution_count": 349,
      "outputs": []
    },
    {
      "cell_type": "code",
      "source": [
        "pi=math.pi\n",
        "assert truncate(fl(pi), 5) == 0.31415\n",
        "assert roundingA(fl(pi),5) == 0.31416"
      ],
      "metadata": {
        "id": "-P5MHIjfFnvL"
      },
      "execution_count": 350,
      "outputs": []
    },
    {
      "cell_type": "code",
      "source": [
        "assert truncate(fl(-0.12), 1) == -0.1\n",
        "assert roundingA(fl(-0.12), 1) == -0.1"
      ],
      "metadata": {
        "id": "kNErZAT3Rzis"
      },
      "execution_count": 351,
      "outputs": []
    },
    {
      "cell_type": "code",
      "source": [
        "assert math.floor(1.5) == floor(1.5)\n",
        "assert math.floor(1.9999) == floor(1.9999)\n",
        "assert math.floor(1.9999) == floor(1.9999)\n",
        "assert math.floor(0) == floor(0)\n",
        "assert math.floor(-1) == floor(-1)\n",
        "assert math.floor(1) == floor(1)\n",
        "assert math.floor(-1.1) == floor(-1.1)"
      ],
      "metadata": {
        "id": "ORsktEjirEhU"
      },
      "execution_count": 352,
      "outputs": []
    },
    {
      "cell_type": "code",
      "source": [
        "assert fl() == 0\n",
        "assert fl(1.7) == 0.17\n",
        "assert fl(0.17) == 0.17\n",
        "assert fl(0.017) == 0.17\n",
        "assert fl(0) == 0\n",
        "assert fl(-1.7) == -0.17"
      ],
      "metadata": {
        "id": "OvSvNHE4HwTD"
      },
      "execution_count": 353,
      "outputs": []
    },
    {
      "cell_type": "code",
      "source": [
        "assert fl(1.7).display() == \"0.17x10^1\"\n",
        "assert fl(0).display() == \"0.0x10^1\"\n",
        "assert fl(-1.7).display() == \"-0.17x10^1\""
      ],
      "metadata": {
        "id": "GXOiU--FLkiy"
      },
      "execution_count": 354,
      "outputs": []
    },
    {
      "cell_type": "code",
      "source": [
        "assert fl(1.7).truncate(1) == 0.1\n",
        "assert fl(1.7).truncate(1).display() == \"0.1x10^1\"\n",
        "assert fl(-1.7).truncate(1) == -0.1\n",
        "assert fl(-1.7).truncate(1).display() == \"-0.1x10^1\""
      ],
      "metadata": {
        "id": "X1kHi2dcL_e6"
      },
      "execution_count": 355,
      "outputs": []
    }
  ]
}